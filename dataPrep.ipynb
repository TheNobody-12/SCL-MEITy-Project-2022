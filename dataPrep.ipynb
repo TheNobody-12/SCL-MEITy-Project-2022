{
 "cells": [
  {
   "cell_type": "markdown",
   "metadata": {},
   "source": [
    "# This Notebook contains code for Downloading data using python libraries like  icreawler."
   ]
  },
  {
   "cell_type": "code",
   "execution_count": null,
   "metadata": {},
   "outputs": [],
   "source": [
    "from icrawler.builtin import BingImageCrawler\n",
    "\n",
    "# //we are building cats image detection that's why we put  here\n",
    "# //if you want some other images then put that name in classes list\n",
    "classes=['buses images'] \n",
    "number=100\n",
    "# //here root directory is find your root directory there u will find \n",
    "# //new file name data in which all images are saved.\n",
    "for c in classes:\n",
    "    bing_crawler=BingImageCrawler(storage={'root_dir':f'p/{c.replace(\" \",\".\")}'})\n",
    "    bing_crawler.crawl(keyword=c,filters=None,max_num=number,offset=0)"
   ]
  },
  {
   "cell_type": "code",
   "execution_count": null,
   "metadata": {},
   "outputs": [],
   "source": [
    "\n",
    "from icrawler.builtin import BingImageCrawler         \n",
    "classes=['trees','roads','Human faces','buildings','house']\n",
    "number=100\n",
    "for c in classes:\n",
    "    bing_crawler=BingImageCrawler(storage={'root_dir':f'n/{c.replace(\" \",\".\")}'}) \n",
    "    bing_crawler.crawl(keyword=c,filters=None,max_num=number,offset=0)        "
   ]
  },
  {
   "cell_type": "code",
   "execution_count": 24,
   "metadata": {},
   "outputs": [
    {
     "name": "stdout",
     "output_type": "stream",
     "text": [
      "F:\\IMP DOCUMENT\\projects\\ISRO\\ISRO-Summer-Internship\\Project101\\Vehicle\\Truck\n"
     ]
    }
   ],
   "source": [
    "# Python program to rename all file\n",
    "# names in your directory\n",
    "import os\n",
    " \n",
    "os.chdir('F:\\\\IMP DOCUMENT\\\\projects\\\\ISRO\\\\ISRO-Summer-Internship\\\\Project101\\\\Vehicle\\\\Truck')\n",
    "print(os.getcwd())\n",
    " \n",
    "for count, f in enumerate(os.listdir()):\n",
    "    f_name, f_ext = os.path.splitext(f)\n",
    "    f_name = \"truck\" + str(count)\n",
    " \n",
    "    new_name = f'{f_name}{f_ext}'\n",
    "    os.rename(f, new_name)"
   ]
  },
  {
   "cell_type": "code",
   "execution_count": 4,
   "metadata": {},
   "outputs": [],
   "source": [
    "from PIL import ImageFile\n",
    "ImageFile.LOAD_TRUNCATED_IMAGES = True"
   ]
  },
  {
   "cell_type": "code",
   "execution_count": 26,
   "metadata": {},
   "outputs": [
    {
     "name": "stdout",
     "output_type": "stream",
     "text": [
      "{}\n"
     ]
    }
   ],
   "source": [
    "import os\n",
    "from PIL import Image \n",
    "\n",
    "folder_images = \"'F:\\IMP DOCUMENT\\projects\\ISRO\\ISRO-Summer-Internship\\Project101\\Vehicle\"\n",
    "size_images = dict()\n",
    "\n",
    "for dirpath, _, filenames in os.walk(folder_images):\n",
    "    for path_image in filenames:\n",
    "        image = os.path.abspath(os.path.join(dirpath, path_image))\n",
    "        with Image.open(image) as img:\n",
    "            width, heigth = img.size\n",
    "            size_images[path_image] = {'width': width, 'heigth': heigth}\n",
    "print(size_images)"
   ]
  },
  {
   "cell_type": "code",
   "execution_count": null,
   "metadata": {},
   "outputs": [],
   "source": [
    "\n",
    "import os\n",
    "import os.path\n",
    "from PIL import Image\n",
    "from PIL import Image\n",
    "\n",
    "f = r'F:\\IMP DOCUMENT\\projects\\ISRO\\ISRO-Summer-Internship\\Project101\\Vehicle\\Truck'\n",
    "for file in os.listdir(f):\n",
    "    f_img = f+\"/\"+file\n",
    "    img = Image.open(f_img)\n",
    "    print(img.shape)\n",
    "    # img.save(f_img)"
   ]
  },
  {
   "cell_type": "code",
   "execution_count": null,
   "metadata": {},
   "outputs": [],
   "source": []
  }
 ],
 "metadata": {
  "interpreter": {
   "hash": "f2ccb58c476f33ba3e3aee7ac07234ef6b8217ef24ad64d2a7d4fed1a57c1cd2"
  },
  "kernelspec": {
   "display_name": "Python 3.10.4 64-bit",
   "language": "python",
   "name": "python3"
  },
  "language_info": {
   "codemirror_mode": {
    "name": "ipython",
    "version": 3
   },
   "file_extension": ".py",
   "mimetype": "text/x-python",
   "name": "python",
   "nbconvert_exporter": "python",
   "pygments_lexer": "ipython3",
   "version": "3.10.4"
  },
  "orig_nbformat": 4
 },
 "nbformat": 4,
 "nbformat_minor": 2
}
