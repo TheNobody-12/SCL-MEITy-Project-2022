{
 "cells": [
  {
   "cell_type": "code",
   "execution_count": 3,
   "metadata": {},
   "outputs": [],
   "source": [
    "import numpy as np\n",
    "import cv2\n",
    "import matplotlib.pyplot as plt\n",
    "import os\n",
    "import random\n",
    "import pickle"
   ]
  },
  {
   "cell_type": "code",
   "execution_count": 4,
   "metadata": {},
   "outputs": [],
   "source": [
    "# error sol on 'https://forums.fast.ai/t/oserror-image-file-is-truncated-38-bytes-not-processed/30806'\n",
    "from PIL import ImageFile\n",
    "ImageFile.LOAD_TRUNCATED_IMAGES = True"
   ]
  },
  {
   "cell_type": "code",
   "execution_count": 3,
   "metadata": {},
   "outputs": [],
   "source": [
    "DIRECTORY = r'F:\\IMP DOCUMENT\\projects\\ISRO-SCL-MEIT-Project\\Vehicle'\n",
    "CATEGORIES = [\"Auto\",\"Bus\",\"Car\",\"Tempo\",\"Tractor\",\"Truck\"]"
   ]
  },
  {
   "cell_type": "code",
   "execution_count": 5,
   "metadata": {},
   "outputs": [],
   "source": [
    "IMG_SIZE = 100 \n",
    "\n",
    "data = []\n",
    "for category in CATEGORIES:\n",
    "    folder = os.path.join(DIRECTORY,category)\n",
    "    label = CATEGORIES.index(category)\n",
    "    for img in os.listdir(folder):\n",
    "        img_path = os.path.join(folder,img)\n",
    "        img_arr = plt.imread(img_path)\n",
    "        img_arr = cv2.resize(img_arr,(IMG_SIZE,IMG_SIZE))\n",
    "        data.append([img_arr,label])\n",
    "        \n"
   ]
  },
  {
   "cell_type": "code",
   "execution_count": 7,
   "metadata": {},
   "outputs": [],
   "source": [
    "random.shuffle(data)"
   ]
  },
  {
   "cell_type": "code",
   "execution_count": 8,
   "metadata": {},
   "outputs": [
    {
     "data": {
      "text/plain": [
       "(5264, 5264)"
      ]
     },
     "execution_count": 8,
     "metadata": {},
     "output_type": "execute_result"
    }
   ],
   "source": [
    "X=[]\n",
    "Y=[]\n",
    "for features ,label in data:\n",
    "    X.append(features)\n",
    "    Y.append(label)\n",
    "li = []\n",
    "len(X),len(Y)\n",
    "\n"
   ]
  },
  {
   "cell_type": "code",
   "execution_count": 9,
   "metadata": {},
   "outputs": [
    {
     "data": {
      "text/plain": [
       "(5264, 5264)"
      ]
     },
     "execution_count": 9,
     "metadata": {},
     "output_type": "execute_result"
    }
   ],
   "source": [
    "len(X),len(Y)"
   ]
  },
  {
   "cell_type": "code",
   "execution_count": 10,
   "metadata": {},
   "outputs": [
    {
     "name": "stdout",
     "output_type": "stream",
     "text": [
      "4156\n"
     ]
    }
   ],
   "source": [
    "for i in range(len(X)):\n",
    "    if X[i].shape == (IMG_SIZE,IMG_SIZE,3) :\n",
    "        li.append(X[i])\n",
    "    else:\n",
    "        #  remove elements from the list\n",
    "        del Y[i]\n",
    "len(Y),len(li)"
   ]
  },
  {
   "cell_type": "code",
   "execution_count": 18,
   "metadata": {},
   "outputs": [],
   "source": [
    "X = np.array(li)\n",
    "Y = np.array(Y)\n"
   ]
  },
  {
   "cell_type": "code",
   "execution_count": 21,
   "metadata": {},
   "outputs": [],
   "source": [
    "pickle.dump(X,open('Xnew2.pkl','wb'))\n",
    "pickle.dump(Y,open('Ynew2.pkl','wb'))\n"
   ]
  },
  {
   "cell_type": "markdown",
   "metadata": {},
   "source": []
  },
  {
   "cell_type": "code",
   "execution_count": 5,
   "metadata": {},
   "outputs": [],
   "source": [
    "X = pickle.load(open('Xnew2.pkl','rb'))\n",
    "Y = pickle.load(open('Ynew2.pkl','rb'))"
   ]
  },
  {
   "cell_type": "code",
   "execution_count": 7,
   "metadata": {},
   "outputs": [],
   "source": [
    "X=X/255\n",
    "from sklearn.model_selection import train_test_split\n",
    "X_train, X_test, y_train, y_test = train_test_split(X, Y, test_size=0.1, random_state=42)\n",
    "\n",
    "from keras.models import Sequential\n",
    "from keras.layers import Dense, Dropout, Flatten, Conv2D, MaxPooling2D \n",
    "model = Sequential()\n",
    "\n",
    "model.add(Conv2D(64, (3, 3), activation='relu'))\n",
    "model.add(MaxPooling2D(pool_size=(2, 2)))\n",
    "\n",
    "model.add(Conv2D(64, (3, 3), activation='relu'))\n",
    "model.add(MaxPooling2D(pool_size=(2, 2)))\n",
    "\n",
    "model.add(Conv2D(64, (3, 3), activation='relu'))\n",
    "model.add(MaxPooling2D(pool_size=(2, 2)))\n",
    "\n",
    "model.add(Conv2D(64, (3, 3), activation='relu'))\n",
    "model.add(MaxPooling2D(pool_size=(2, 2)))\n",
    "\n",
    "model.add(Flatten())\n",
    "model.add(Dense(128,input_shape = X_train.shape[1:], activation='relu'))\n",
    "model.add(Dense(6,activation=\"softmax\"))\n",
    "model.compile(optimizer='adam', loss='sparse_categorical_crossentropy', metrics=['accuracy'])\n",
    "# print(model.summary())"
   ]
  },
  {
   "cell_type": "code",
   "execution_count": 8,
   "metadata": {},
   "outputs": [
    {
     "name": "stdout",
     "output_type": "stream",
     "text": [
      "Epoch 1/100\n",
      "134/134 [==============================] - 54s 371ms/step - loss: 1.6709 - accuracy: 0.3046 - val_loss: 1.6822 - val_accuracy: 0.2722\n",
      "Epoch 2/100\n",
      "134/134 [==============================] - 46s 346ms/step - loss: 1.6589 - accuracy: 0.3055 - val_loss: 1.6848 - val_accuracy: 0.2722\n",
      "Epoch 3/100\n",
      "134/134 [==============================] - 43s 318ms/step - loss: 1.6596 - accuracy: 0.3055 - val_loss: 1.6791 - val_accuracy: 0.2722\n",
      "Epoch 4/100\n",
      "134/134 [==============================] - 47s 352ms/step - loss: 1.6515 - accuracy: 0.3074 - val_loss: 1.6367 - val_accuracy: 0.2743\n",
      "Epoch 5/100\n",
      "134/134 [==============================] - 42s 316ms/step - loss: 1.5616 - accuracy: 0.3602 - val_loss: 1.5153 - val_accuracy: 0.4072\n",
      "Epoch 6/100\n",
      "134/134 [==============================] - 47s 351ms/step - loss: 1.4612 - accuracy: 0.4313 - val_loss: 1.4119 - val_accuracy: 0.4831\n",
      "Epoch 7/100\n",
      "134/134 [==============================] - 48s 357ms/step - loss: 1.3786 - accuracy: 0.4714 - val_loss: 1.4189 - val_accuracy: 0.4557\n",
      "Epoch 8/100\n",
      "134/134 [==============================] - 46s 341ms/step - loss: 1.3143 - accuracy: 0.4974 - val_loss: 1.3154 - val_accuracy: 0.4958\n",
      "Epoch 9/100\n",
      "134/134 [==============================] - 51s 378ms/step - loss: 1.2553 - accuracy: 0.5300 - val_loss: 1.2753 - val_accuracy: 0.5338\n",
      "Epoch 10/100\n",
      "134/134 [==============================] - 48s 356ms/step - loss: 1.1865 - accuracy: 0.5591 - val_loss: 1.1634 - val_accuracy: 0.5738\n",
      "Epoch 11/100\n",
      "134/134 [==============================] - 50s 376ms/step - loss: 1.0959 - accuracy: 0.5903 - val_loss: 1.1313 - val_accuracy: 0.5928\n",
      "Epoch 12/100\n",
      "134/134 [==============================] - 48s 361ms/step - loss: 1.0257 - accuracy: 0.6208 - val_loss: 1.1346 - val_accuracy: 0.6245\n",
      "Epoch 13/100\n",
      "134/134 [==============================] - 49s 368ms/step - loss: 0.9529 - accuracy: 0.6497 - val_loss: 1.1446 - val_accuracy: 0.6076\n",
      "Epoch 14/100\n",
      "134/134 [==============================] - 49s 364ms/step - loss: 0.8983 - accuracy: 0.6720 - val_loss: 1.0865 - val_accuracy: 0.6013\n",
      "Epoch 15/100\n",
      "134/134 [==============================] - 45s 340ms/step - loss: 0.8308 - accuracy: 0.7058 - val_loss: 1.0666 - val_accuracy: 0.6308\n",
      "Epoch 16/100\n",
      "134/134 [==============================] - 49s 369ms/step - loss: 0.7440 - accuracy: 0.7311 - val_loss: 1.0566 - val_accuracy: 0.6287\n",
      "Epoch 17/100\n",
      "134/134 [==============================] - 53s 397ms/step - loss: 0.6826 - accuracy: 0.7642 - val_loss: 1.0361 - val_accuracy: 0.6414\n",
      "Epoch 18/100\n",
      "134/134 [==============================] - 50s 372ms/step - loss: 0.6099 - accuracy: 0.7865 - val_loss: 1.0642 - val_accuracy: 0.6667\n",
      "Epoch 19/100\n",
      "134/134 [==============================] - 50s 373ms/step - loss: 0.5536 - accuracy: 0.8048 - val_loss: 1.0384 - val_accuracy: 0.6793\n",
      "Epoch 20/100\n",
      "134/134 [==============================] - 48s 362ms/step - loss: 0.4685 - accuracy: 0.8360 - val_loss: 1.0737 - val_accuracy: 0.6498\n",
      "Epoch 21/100\n",
      "134/134 [==============================] - 44s 325ms/step - loss: 0.4138 - accuracy: 0.8592 - val_loss: 1.1390 - val_accuracy: 0.6814\n",
      "Epoch 22/100\n",
      "134/134 [==============================] - 43s 320ms/step - loss: 0.3597 - accuracy: 0.8768 - val_loss: 1.1671 - val_accuracy: 0.6772\n",
      "Epoch 23/100\n",
      "134/134 [==============================] - 43s 319ms/step - loss: 0.3014 - accuracy: 0.9000 - val_loss: 1.2282 - val_accuracy: 0.6582\n",
      "Epoch 24/100\n",
      "134/134 [==============================] - 51s 380ms/step - loss: 0.2717 - accuracy: 0.9076 - val_loss: 1.3434 - val_accuracy: 0.6793\n",
      "Epoch 25/100\n",
      "134/134 [==============================] - 47s 349ms/step - loss: 0.2093 - accuracy: 0.9303 - val_loss: 1.3345 - val_accuracy: 0.6835\n",
      "Epoch 26/100\n",
      "134/134 [==============================] - 48s 356ms/step - loss: 0.1593 - accuracy: 0.9489 - val_loss: 1.4890 - val_accuracy: 0.6814\n",
      "Epoch 27/100\n",
      "134/134 [==============================] - 43s 322ms/step - loss: 0.1543 - accuracy: 0.9456 - val_loss: 1.5233 - val_accuracy: 0.6772\n",
      "Epoch 28/100\n",
      "134/134 [==============================] - 46s 341ms/step - loss: 0.1462 - accuracy: 0.9496 - val_loss: 1.5347 - val_accuracy: 0.6793\n",
      "Epoch 29/100\n",
      "134/134 [==============================] - 47s 347ms/step - loss: 0.0838 - accuracy: 0.9765 - val_loss: 1.6846 - val_accuracy: 0.6835\n",
      "Epoch 30/100\n",
      "134/134 [==============================] - 44s 331ms/step - loss: 0.0871 - accuracy: 0.9714 - val_loss: 1.8562 - val_accuracy: 0.6751\n",
      "Epoch 31/100\n",
      "134/134 [==============================] - 42s 315ms/step - loss: 0.0795 - accuracy: 0.9765 - val_loss: 1.7979 - val_accuracy: 0.6814\n",
      "Epoch 32/100\n",
      "134/134 [==============================] - 45s 338ms/step - loss: 0.0427 - accuracy: 0.9887 - val_loss: 2.1041 - val_accuracy: 0.6920\n",
      "Epoch 33/100\n",
      "134/134 [==============================] - 49s 365ms/step - loss: 0.0348 - accuracy: 0.9911 - val_loss: 2.1143 - val_accuracy: 0.7089\n",
      "Epoch 34/100\n",
      "134/134 [==============================] - 58s 437ms/step - loss: 0.0701 - accuracy: 0.9794 - val_loss: 2.2535 - val_accuracy: 0.6772\n",
      "Epoch 35/100\n",
      "134/134 [==============================] - 46s 344ms/step - loss: 0.0954 - accuracy: 0.9679 - val_loss: 2.1421 - val_accuracy: 0.6899\n",
      "Epoch 36/100\n",
      "134/134 [==============================] - 47s 351ms/step - loss: 0.0714 - accuracy: 0.9756 - val_loss: 2.1764 - val_accuracy: 0.6709\n",
      "Epoch 37/100\n",
      "134/134 [==============================] - 46s 345ms/step - loss: 0.0329 - accuracy: 0.9880 - val_loss: 2.3400 - val_accuracy: 0.6709\n",
      "Epoch 38/100\n",
      "134/134 [==============================] - 45s 338ms/step - loss: 0.0378 - accuracy: 0.9894 - val_loss: 2.5211 - val_accuracy: 0.6814\n",
      "Epoch 39/100\n",
      "134/134 [==============================] - 47s 354ms/step - loss: 0.0640 - accuracy: 0.9798 - val_loss: 2.3937 - val_accuracy: 0.6814\n",
      "Epoch 40/100\n",
      "134/134 [==============================] - 44s 324ms/step - loss: 0.0419 - accuracy: 0.9869 - val_loss: 2.2905 - val_accuracy: 0.6857\n",
      "Epoch 41/100\n",
      "134/134 [==============================] - 44s 330ms/step - loss: 0.0544 - accuracy: 0.9831 - val_loss: 2.1089 - val_accuracy: 0.6835\n",
      "Epoch 42/100\n",
      "134/134 [==============================] - 48s 355ms/step - loss: 0.1085 - accuracy: 0.9646 - val_loss: 2.1777 - val_accuracy: 0.6899\n",
      "Epoch 43/100\n",
      "134/134 [==============================] - 42s 314ms/step - loss: 0.0160 - accuracy: 0.9962 - val_loss: 2.3048 - val_accuracy: 0.7004\n",
      "Epoch 44/100\n",
      "134/134 [==============================] - 42s 317ms/step - loss: 0.0079 - accuracy: 0.9986 - val_loss: 2.4061 - val_accuracy: 0.7004\n",
      "Epoch 45/100\n",
      "134/134 [==============================] - 42s 315ms/step - loss: 0.0233 - accuracy: 0.9937 - val_loss: 2.4416 - val_accuracy: 0.6983\n",
      "Epoch 46/100\n",
      "134/134 [==============================] - 42s 315ms/step - loss: 0.0057 - accuracy: 0.9988 - val_loss: 2.4675 - val_accuracy: 0.7025\n",
      "Epoch 47/100\n",
      "134/134 [==============================] - 39s 294ms/step - loss: 0.0017 - accuracy: 1.0000 - val_loss: 2.5261 - val_accuracy: 0.7068\n",
      "Epoch 48/100\n",
      "134/134 [==============================] - 46s 345ms/step - loss: 0.0010 - accuracy: 1.0000 - val_loss: 2.5599 - val_accuracy: 0.7089\n",
      "Epoch 49/100\n",
      "134/134 [==============================] - 44s 328ms/step - loss: 8.4436e-04 - accuracy: 1.0000 - val_loss: 2.5995 - val_accuracy: 0.7068\n",
      "Epoch 50/100\n",
      "134/134 [==============================] - 37s 280ms/step - loss: 7.1599e-04 - accuracy: 1.0000 - val_loss: 2.6370 - val_accuracy: 0.7089\n",
      "Epoch 51/100\n",
      "134/134 [==============================] - 40s 298ms/step - loss: 6.2552e-04 - accuracy: 1.0000 - val_loss: 2.6701 - val_accuracy: 0.7025\n",
      "Epoch 52/100\n",
      "134/134 [==============================] - 45s 334ms/step - loss: 5.5292e-04 - accuracy: 1.0000 - val_loss: 2.6998 - val_accuracy: 0.7068\n",
      "Epoch 53/100\n",
      "134/134 [==============================] - 41s 308ms/step - loss: 4.9569e-04 - accuracy: 1.0000 - val_loss: 2.7298 - val_accuracy: 0.7046\n",
      "Epoch 54/100\n",
      "134/134 [==============================] - 42s 312ms/step - loss: 4.4024e-04 - accuracy: 1.0000 - val_loss: 2.7639 - val_accuracy: 0.7004\n",
      "Epoch 55/100\n",
      "134/134 [==============================] - 50s 371ms/step - loss: 4.0161e-04 - accuracy: 1.0000 - val_loss: 2.7877 - val_accuracy: 0.7004\n",
      "Epoch 56/100\n",
      "134/134 [==============================] - 48s 360ms/step - loss: 3.6344e-04 - accuracy: 1.0000 - val_loss: 2.8121 - val_accuracy: 0.7025\n",
      "Epoch 57/100\n",
      "134/134 [==============================] - 45s 335ms/step - loss: 3.3063e-04 - accuracy: 1.0000 - val_loss: 2.8425 - val_accuracy: 0.7046\n",
      "Epoch 58/100\n",
      "134/134 [==============================] - 44s 325ms/step - loss: 3.0701e-04 - accuracy: 1.0000 - val_loss: 2.8670 - val_accuracy: 0.7025\n",
      "Epoch 59/100\n",
      "134/134 [==============================] - 44s 325ms/step - loss: 2.7324e-04 - accuracy: 1.0000 - val_loss: 2.8917 - val_accuracy: 0.7004\n",
      "Epoch 60/100\n",
      "134/134 [==============================] - 44s 332ms/step - loss: 2.5148e-04 - accuracy: 1.0000 - val_loss: 2.9188 - val_accuracy: 0.7004\n",
      "Epoch 61/100\n",
      "134/134 [==============================] - 43s 324ms/step - loss: 2.2955e-04 - accuracy: 1.0000 - val_loss: 2.9419 - val_accuracy: 0.7004\n",
      "Epoch 62/100\n",
      "134/134 [==============================] - 44s 330ms/step - loss: 2.1250e-04 - accuracy: 1.0000 - val_loss: 2.9622 - val_accuracy: 0.6983\n",
      "Epoch 63/100\n",
      "134/134 [==============================] - 50s 374ms/step - loss: 1.9512e-04 - accuracy: 1.0000 - val_loss: 2.9872 - val_accuracy: 0.7004\n",
      "Epoch 64/100\n",
      "134/134 [==============================] - 49s 362ms/step - loss: 1.8054e-04 - accuracy: 1.0000 - val_loss: 3.0084 - val_accuracy: 0.7004\n",
      "Epoch 65/100\n",
      "134/134 [==============================] - 53s 396ms/step - loss: 1.6576e-04 - accuracy: 1.0000 - val_loss: 3.0332 - val_accuracy: 0.7004\n",
      "Epoch 66/100\n",
      "134/134 [==============================] - 47s 347ms/step - loss: 1.5316e-04 - accuracy: 1.0000 - val_loss: 3.0534 - val_accuracy: 0.6983\n",
      "Epoch 67/100\n",
      "134/134 [==============================] - 40s 296ms/step - loss: 1.4093e-04 - accuracy: 1.0000 - val_loss: 3.0740 - val_accuracy: 0.6983\n",
      "Epoch 68/100\n",
      "134/134 [==============================] - 38s 283ms/step - loss: 1.3018e-04 - accuracy: 1.0000 - val_loss: 3.0978 - val_accuracy: 0.7046\n",
      "Epoch 69/100\n",
      "134/134 [==============================] - 40s 295ms/step - loss: 1.1999e-04 - accuracy: 1.0000 - val_loss: 3.1223 - val_accuracy: 0.7068\n",
      "Epoch 70/100\n",
      "134/134 [==============================] - 48s 360ms/step - loss: 1.1105e-04 - accuracy: 1.0000 - val_loss: 3.1377 - val_accuracy: 0.7025\n",
      "Epoch 71/100\n",
      "134/134 [==============================] - 41s 309ms/step - loss: 1.0255e-04 - accuracy: 1.0000 - val_loss: 3.1649 - val_accuracy: 0.7046\n",
      "Epoch 72/100\n",
      "134/134 [==============================] - 43s 318ms/step - loss: 9.5009e-05 - accuracy: 1.0000 - val_loss: 3.1879 - val_accuracy: 0.7025\n",
      "Epoch 73/100\n",
      "134/134 [==============================] - 42s 312ms/step - loss: 8.7364e-05 - accuracy: 1.0000 - val_loss: 3.2087 - val_accuracy: 0.7046\n",
      "Epoch 74/100\n",
      "134/134 [==============================] - 41s 309ms/step - loss: 8.0949e-05 - accuracy: 1.0000 - val_loss: 3.2263 - val_accuracy: 0.7068\n",
      "Epoch 75/100\n",
      "134/134 [==============================] - 37s 279ms/step - loss: 7.4782e-05 - accuracy: 1.0000 - val_loss: 3.2520 - val_accuracy: 0.7068\n",
      "Epoch 76/100\n",
      "134/134 [==============================] - 40s 295ms/step - loss: 6.9552e-05 - accuracy: 1.0000 - val_loss: 3.2734 - val_accuracy: 0.7046\n",
      "Epoch 77/100\n",
      "134/134 [==============================] - 42s 312ms/step - loss: 6.4722e-05 - accuracy: 1.0000 - val_loss: 3.2935 - val_accuracy: 0.7068\n",
      "Epoch 78/100\n",
      "134/134 [==============================] - 40s 296ms/step - loss: 5.9496e-05 - accuracy: 1.0000 - val_loss: 3.3161 - val_accuracy: 0.7046\n",
      "Epoch 79/100\n",
      "134/134 [==============================] - 39s 294ms/step - loss: 5.4994e-05 - accuracy: 1.0000 - val_loss: 3.3376 - val_accuracy: 0.7046\n",
      "Epoch 80/100\n",
      "134/134 [==============================] - 39s 288ms/step - loss: 5.1255e-05 - accuracy: 1.0000 - val_loss: 3.3612 - val_accuracy: 0.7068\n",
      "Epoch 81/100\n",
      "134/134 [==============================] - 39s 287ms/step - loss: 4.7396e-05 - accuracy: 1.0000 - val_loss: 3.3814 - val_accuracy: 0.7046\n",
      "Epoch 82/100\n",
      "134/134 [==============================] - 39s 289ms/step - loss: 4.3839e-05 - accuracy: 1.0000 - val_loss: 3.4039 - val_accuracy: 0.7068\n",
      "Epoch 83/100\n",
      "134/134 [==============================] - 38s 286ms/step - loss: 4.0622e-05 - accuracy: 1.0000 - val_loss: 3.4255 - val_accuracy: 0.7046\n",
      "Epoch 84/100\n",
      "134/134 [==============================] - 39s 292ms/step - loss: 3.7575e-05 - accuracy: 1.0000 - val_loss: 3.4440 - val_accuracy: 0.7089\n",
      "Epoch 85/100\n",
      "134/134 [==============================] - 39s 294ms/step - loss: 3.4866e-05 - accuracy: 1.0000 - val_loss: 3.4716 - val_accuracy: 0.7025\n",
      "Epoch 86/100\n",
      "134/134 [==============================] - 38s 283ms/step - loss: 3.2392e-05 - accuracy: 1.0000 - val_loss: 3.4916 - val_accuracy: 0.7068\n",
      "Epoch 87/100\n",
      "134/134 [==============================] - 38s 285ms/step - loss: 2.9982e-05 - accuracy: 1.0000 - val_loss: 3.5096 - val_accuracy: 0.7068\n",
      "Epoch 88/100\n",
      "134/134 [==============================] - 38s 286ms/step - loss: 2.7623e-05 - accuracy: 1.0000 - val_loss: 3.5342 - val_accuracy: 0.7068\n",
      "Epoch 89/100\n",
      "134/134 [==============================] - 39s 288ms/step - loss: 2.5709e-05 - accuracy: 1.0000 - val_loss: 3.5565 - val_accuracy: 0.7068\n",
      "Epoch 90/100\n",
      "134/134 [==============================] - 39s 292ms/step - loss: 2.3818e-05 - accuracy: 1.0000 - val_loss: 3.5751 - val_accuracy: 0.7046\n",
      "Epoch 91/100\n",
      "134/134 [==============================] - 39s 288ms/step - loss: 2.2067e-05 - accuracy: 1.0000 - val_loss: 3.5957 - val_accuracy: 0.7089\n",
      "Epoch 92/100\n",
      "134/134 [==============================] - 38s 285ms/step - loss: 2.0528e-05 - accuracy: 1.0000 - val_loss: 3.6248 - val_accuracy: 0.7046\n",
      "Epoch 93/100\n",
      "134/134 [==============================] - 38s 286ms/step - loss: 1.8997e-05 - accuracy: 1.0000 - val_loss: 3.6464 - val_accuracy: 0.7089\n",
      "Epoch 94/100\n",
      "134/134 [==============================] - 51s 380ms/step - loss: 1.7569e-05 - accuracy: 1.0000 - val_loss: 3.6638 - val_accuracy: 0.7046\n",
      "Epoch 95/100\n",
      "134/134 [==============================] - 42s 310ms/step - loss: 1.6320e-05 - accuracy: 1.0000 - val_loss: 3.6851 - val_accuracy: 0.7025\n",
      "Epoch 96/100\n",
      "134/134 [==============================] - 43s 322ms/step - loss: 1.5049e-05 - accuracy: 1.0000 - val_loss: 3.7131 - val_accuracy: 0.7046\n",
      "Epoch 97/100\n",
      "134/134 [==============================] - 39s 288ms/step - loss: 1.4001e-05 - accuracy: 1.0000 - val_loss: 3.7286 - val_accuracy: 0.7004\n",
      "Epoch 98/100\n",
      "134/134 [==============================] - 40s 297ms/step - loss: 1.2945e-05 - accuracy: 1.0000 - val_loss: 3.7532 - val_accuracy: 0.7046\n",
      "Epoch 99/100\n",
      "134/134 [==============================] - 37s 278ms/step - loss: 1.1966e-05 - accuracy: 1.0000 - val_loss: 3.7812 - val_accuracy: 0.7046\n",
      "Epoch 100/100\n",
      "134/134 [==============================] - 38s 283ms/step - loss: 1.1090e-05 - accuracy: 1.0000 - val_loss: 3.7976 - val_accuracy: 0.7025\n"
     ]
    },
    {
     "data": {
      "text/plain": [
       "<matplotlib.legend.Legend at 0x1f8e8715960>"
      ]
     },
     "execution_count": 8,
     "metadata": {},
     "output_type": "execute_result"
    },
    {
     "data": {
      "image/png": "[encoded data removed]",
      "text/plain": [
       "<Figure size 432x288 with 1 Axes>"
      ]
     },
     "metadata": {
      "needs_background": "light"
     },
     "output_type": "display_data"
    }
   ],
   "source": [
    "\n",
    "final = model.fit(X_train, y_train, epochs=100,validation_split=0.1)\n",
    "# model.save('Vehicle_aug1.h5')\n",
    "# plot the training loss and accuracy\n",
    "N = 100\n",
    "plt.style.use(\"ggplot\") \n",
    "plt.figure()\n",
    "plt.plot(np.arange(0, N), final.history[\"loss\"], label=\"train_loss\")\n",
    "plt.plot(np.arange(0, N), final.history[\"val_loss\"], label=\"val_loss\")\n",
    "plt.plot(np.arange(0, N), final.history[\"accuracy\"], label=\"train_acc\")\n",
    "plt.plot(np.arange(0, N), final.history[\"val_accuracy\"], label=\"val_acc\")\n",
    "plt.title(\"Training Loss and Accuracy\")\n",
    "plt.xlabel(\"Epoch #\")\n",
    "plt.ylabel(\"Loss/Accuracy\")\n",
    "plt.legend(loc=\"center right\")\n",
    "# plt.savefig(\"CNN_Model_aug1.png\") "
   ]
  }
 ],
 "metadata": {
  "kernelspec": {
   "display_name": "Python 3.10.4 ('server': venv)",
   "language": "python",
   "name": "python3"
  },
  "language_info": {
   "codemirror_mode": {
    "name": "ipython",
    "version": 3
   },
   "file_extension": ".py",
   "mimetype": "text/x-python",
   "name": "python",
   "nbconvert_exporter": "python",
   "pygments_lexer": "ipython3",
   "version": "3.10.4"
  },
  "orig_nbformat": 4,
  "vscode": {
   "interpreter": {
    "hash": "e54c8763c37260b37b1412241896e6c47497f907892d20124375f091d8946c3c"
   }
  }
 },
 "nbformat": 4,
 "nbformat_minor": 2
}
